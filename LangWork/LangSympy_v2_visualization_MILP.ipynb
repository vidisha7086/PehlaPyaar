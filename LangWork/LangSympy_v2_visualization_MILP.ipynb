{
 "cells": [
  {
   "cell_type": "code",
   "execution_count": 2,
   "id": "3c38616e",
   "metadata": {},
   "outputs": [],
   "source": [
    "from langchain.chat_models import ChatOpenAI\n",
    "from langchain_groq import ChatGroq\n",
    "from langchain.prompts import ChatPromptTemplate\n",
    "from langchain.chains import LLMChain\n",
    "import sympy as sympy"
   ]
  },
  {
   "cell_type": "code",
   "execution_count": 3,
   "id": "9edf5737",
   "metadata": {},
   "outputs": [],
   "source": [
    "import matplotlib.pyplot as plt"
   ]
  },
  {
   "cell_type": "code",
   "execution_count": 4,
   "id": "ebc9a6ec",
   "metadata": {},
   "outputs": [],
   "source": [
    "import os\n",
    "from dotenv import load_dotenv\n",
    "load_dotenv()\n",
    "os.environ[\"GROQ_API_KEY\"]=os.getenv(\"GROQ_API_KEY\")"
   ]
  },
  {
   "cell_type": "code",
   "execution_count": 5,
   "id": "c0ce0e7e",
   "metadata": {},
   "outputs": [],
   "source": [
    "# 1. Load the LLM\n",
    "llm=ChatGroq(model=\"llama-3.1-8b-instant\",temperature=0)"
   ]
  },
  {
   "cell_type": "code",
   "execution_count": 6,
   "id": "4aa7c5c8",
   "metadata": {},
   "outputs": [],
   "source": [
    "prompt = ChatPromptTemplate.from_template(\n",
    "    \"\"\"\n",
    "Convert the following instruction into LaTeX-compatible mathematical expressions.\n",
    "\n",
    "❗ Return only the mathematical LaTeX expressions.\n",
    "❌ Do not include explanations, descriptions, or alternative forms.\n",
    "❌ Do not include words like 'Alternatively', 'using the chain rule', or English commentary.\n",
    "✅ Just return valid LaTeX (without enclosing in $ or $$), one per line if there are multiple.\n",
    "\n",
    "Instruction: {user_input}\n",
    "\n",
    "LaTeX:\n",
    "\"\"\"\n",
    ")\n"
   ]
  },
  {
   "cell_type": "code",
   "execution_count": 7,
   "id": "9eab82d9",
   "metadata": {},
   "outputs": [],
   "source": [
    "# 3. Create the LangChain chain\n",
    "#chain = LLMChain(llm=llm, prompt=prompt)\n",
    "chain=prompt | llm"
   ]
  },
  {
   "cell_type": "code",
   "execution_count": 9,
   "id": "3cd74650",
   "metadata": {},
   "outputs": [],
   "source": [
    "user_input = \"Find the derivative of ln(cos(x)) with respect to x\"\n",
    "latex_expr = chain.invoke({\"user_input\": user_input}).content"
   ]
  },
  {
   "cell_type": "code",
   "execution_count": 10,
   "id": "abb22c39",
   "metadata": {},
   "outputs": [
    {
     "name": "stdout",
     "output_type": "stream",
     "text": [
      "\\frac{d}{dx} \\ln(\\cos(x)) = \\frac{-\\sin(x)}{\\cos(x)}\n"
     ]
    }
   ],
   "source": [
    "print(latex_expr)"
   ]
  },
  {
   "cell_type": "code",
   "execution_count": 8,
   "id": "3ca1b140",
   "metadata": {},
   "outputs": [
    {
     "data": {
      "image/png": "[encoded data removed]",
      "text/plain": [
       "<Figure size 800x200 with 1 Axes>"
      ]
     },
     "metadata": {},
     "output_type": "display_data"
    }
   ],
   "source": [
    "user_input = \"Find the derivative of ln(cos(x)) with respect to x\"\n",
    "latex_expr = chain.invoke({\"user_input\": user_input}).content\n",
    "\n",
    "# Filter only LaTeX math expressions (e.g., lines with \\frac, \\ln, \\cos, etc.)\n",
    "import re\n",
    "latex_lines = [line.strip() for line in latex_expr.splitlines() if re.search(r'\\\\(frac|ln|cos|sin|tan)', line)]\n",
    "\n",
    "# Choose the one you want (first one, or all)\n",
    "# If you expect just one clean expression:\n",
    "cleaner_expr = latex_lines[0] if latex_lines else latex_expr.strip()\n",
    "import matplotlib.pyplot as plt\n",
    "\n",
    "plt.figure(figsize=(8, 2))\n",
    "plt.axis(\"off\")\n",
    "plt.text(0.5, 0.5, f\"${cleaner_expr}$\", fontsize=20, ha='center', va='center')\n",
    "plt.show()\n"
   ]
  },
  {
   "cell_type": "code",
   "execution_count": 13,
   "id": "7fe833bb",
   "metadata": {},
   "outputs": [
    {
     "data": {
      "image/png": "[encoded data removed]",
      "text/plain": [
       "<Figure size 800x200 with 1 Axes>"
      ]
     },
     "metadata": {},
     "output_type": "display_data"
    }
   ],
   "source": [
    "user_input = \"Find the derivative of x^2 * ln(sin(x))\"\n",
    "\n",
    "latex_expr = chain.invoke({\"user_input\": user_input}).content\n",
    "\n",
    "# Extract only LaTeX math lines using regex\n",
    "import re\n",
    "latex_lines = [line.strip() for line in latex_expr.splitlines() if re.search(r'\\\\(frac|sin|cos|tan|ln)', line)]\n",
    "cleaner_expr = latex_lines[0] if latex_lines else latex_expr.strip()\n",
    "\n",
    "# Plot it\n",
    "import matplotlib.pyplot as plt\n",
    "plt.figure(figsize=(8, 2))\n",
    "plt.axis(\"off\")\n",
    "plt.text(0.5, 0.5, f\"${cleaner_expr}$\", fontsize=20, ha='center', va='center')\n",
    "plt.show()\n"
   ]
  },
  {
   "cell_type": "code",
   "execution_count": 14,
   "id": "ecace0a1",
   "metadata": {},
   "outputs": [
    {
     "data": {
      "image/png": "[encoded data removed]",
      "text/plain": [
       "<Figure size 800x200 with 1 Axes>"
      ]
     },
     "metadata": {},
     "output_type": "display_data"
    }
   ],
   "source": [
    "user_input = \"Find the derivative of ln(sin(x^2))\"\n",
    "latex_expr = chain.invoke({\"user_input\": user_input}).content\n",
    "\n",
    "# Extract only LaTeX math lines using regex\n",
    "import re\n",
    "latex_lines = [line.strip() for line in latex_expr.splitlines() if re.search(r'\\\\(frac|sin|cos|tan|ln)', line)]\n",
    "cleaner_expr = latex_lines[0] if latex_lines else latex_expr.strip()\n",
    "\n",
    "# Plot it\n",
    "import matplotlib.pyplot as plt\n",
    "plt.figure(figsize=(8, 2))\n",
    "plt.axis(\"off\")\n",
    "plt.text(0.5, 0.5, f\"${cleaner_expr}$\", fontsize=20, ha='center', va='center')\n",
    "plt.show()"
   ]
  },
  {
   "cell_type": "code",
   "execution_count": 15,
   "id": "f42afe71",
   "metadata": {},
   "outputs": [
    {
     "data": {
      "image/png": "[encoded data removed]",
      "text/plain": [
       "<Figure size 800x200 with 1 Axes>"
      ]
     },
     "metadata": {},
     "output_type": "display_data"
    }
   ],
   "source": [
    "user_input =\"Find the second derivative of tan(x^2 + 1)\"\n",
    "\n",
    "latex_expr = chain.invoke({\"user_input\": user_input}).content\n",
    "\n",
    "# Extract only LaTeX math lines using regex\n",
    "import re\n",
    "latex_lines = [line.strip() for line in latex_expr.splitlines() if re.search(r'\\\\(frac|sin|cos|tan|ln)', line)]\n",
    "cleaner_expr = latex_lines[0] if latex_lines else latex_expr.strip()\n",
    "\n",
    "# Plot it\n",
    "import matplotlib.pyplot as plt\n",
    "plt.figure(figsize=(8, 2))\n",
    "plt.axis(\"off\")\n",
    "plt.text(0.5, 0.5, f\"${cleaner_expr}$\", fontsize=20, ha='center', va='center')\n",
    "plt.show()"
   ]
  },
  {
   "cell_type": "code",
   "execution_count": 9,
   "id": "9f33efe3",
   "metadata": {},
   "outputs": [
    {
     "data": {
      "image/png": "[encoded data removed]",
      "text/plain": [
       "<Figure size 800x200 with 1 Axes>"
      ]
     },
     "metadata": {},
     "output_type": "display_data"
    }
   ],
   "source": [
    "user_input =\"Differentiate x^2 + y^2 = ln(x * y) implicitly with respect to x\"\n",
    "latex_expr = chain.invoke({\"user_input\": user_input}).content\n",
    "\n",
    "# Extract only LaTeX math lines using regex\n",
    "import re\n",
    "latex_lines = [line.strip() for line in latex_expr.splitlines() if re.search(r'\\\\(frac|sin|cos|tan|ln)', line)]\n",
    "cleaner_expr = latex_lines[0] if latex_lines else latex_expr.strip()\n",
    "\n",
    "# Plot it\n",
    "import matplotlib.pyplot as plt\n",
    "plt.figure(figsize=(8, 2))\n",
    "plt.axis(\"off\")\n",
    "plt.text(0.5, 0.5, f\"${cleaner_expr}$\", fontsize=20, ha='center', va='center')\n",
    "plt.show()"
   ]
  },
  {
   "cell_type": "code",
   "execution_count": 14,
   "id": "646f5472",
   "metadata": {},
   "outputs": [],
   "source": [
    "from langchain.prompts import ChatPromptTemplate\n",
    "\n",
    "prompt = ChatPromptTemplate.from_template(\n",
    "    \"\"\"\n",
    "Convert the following optimization problem into a LaTeX mathematical formulation.\n",
    "\n",
    "✅ Use \\\\begin{{aligned}} ... \\\\end{{aligned}} for multi-line formatting.\n",
    "✅ Format all constraints on new lines.\n",
    "✅ Only output raw LaTeX — no explanation, no text.\n",
    "\n",
    "Instruction: {user_input}\n",
    "\n",
    "LaTeX:\n",
    "\"\"\"\n",
    ")\n"
   ]
  },
  {
   "cell_type": "code",
   "execution_count": 15,
   "id": "78f4a470",
   "metadata": {},
   "outputs": [
    {
     "name": "stdout",
     "output_type": "stream",
     "text": [
      "\\min_{x,y} 5x + 3y\n",
      "x + y \\geq 10\n",
      "x \\geq 0\n",
      "y \\geq 0\n"
     ]
    }
   ],
   "source": [
    "user_input = \"Minimize the total cost of production, where cost = 5x + 3y, subject to x + y ≥ 10 and x, y ≥ 0\"\n",
    "latex_expr = chain.invoke({\"user_input\": user_input}).content\n",
    "\n",
    "print(latex_expr)  # <- ✅ This will show the clean LaTeX block as a string\n"
   ]
  },
  {
   "cell_type": "code",
   "execution_count": 55,
   "id": "2cec6eee",
   "metadata": {},
   "outputs": [
    {
     "data": {
      "text/plain": [
       "'\\\\begin{aligned}\\n\\\\min_{x,y} 5x + 3y\\nx + y \\\\geq 10\\nx \\\\geq 0\\ny \\\\geq 0\\n\\\\end{aligned}'"
      ]
     },
     "execution_count": 55,
     "metadata": {},
     "output_type": "execute_result"
    }
   ],
   "source": [
    "cleaner_expr = f\"\\\\begin{{aligned}}\\n{latex_expr.strip()}\\n\\\\end{{aligned}}\"\n",
    "cleaner_expr"
   ]
  },
  {
   "cell_type": "code",
   "execution_count": 23,
   "id": "8094446a",
   "metadata": {},
   "outputs": [
    {
     "name": "stdout",
     "output_type": "stream",
     "text": [
      "\\min \\sum_{i=1}^{m} \\sum_{j=1}^{n} c_{ij} x_{ij}\n",
      "\\sum_{j=1}^{n} x_{ij} \\leq s_i \\quad \\forall i\n",
      "\\sum_{i=1}^{m} x_{ij} \\geq d_j \\quad \\forall j\n",
      "x_{ij} \\geq 0 \\quad \\forall i, j\n"
     ]
    }
   ],
   "source": [
    "import matplotlib.pyplot as plt\n",
    "\n",
    "user_input = (\n",
    "    \"Minimize total cost of transporting goods from m warehouses to n customers. \"\n",
    "    \"Let c_ij be the cost per unit from warehouse i to customer j, and x_ij be the units transported. \"\n",
    "    \"Each warehouse i has supply s_i, each customer j has demand d_j.\"\n",
    ")\n",
    "\n",
    "# Step 1: Get model output\n",
    "latex_expr = chain.invoke({\"user_input\": user_input}).content\n",
    "\n",
    "print(latex_expr)\n",
    "\n"
   ]
  },
  {
   "cell_type": "code",
   "execution_count": null,
   "id": "734f7276",
   "metadata": {},
   "outputs": [],
   "source": [
    "# Step 2: Clean LaTeX for matplotlib mathtext (no MiKTeX)\n",
    "latex_expr = latex_expr.replace(r'\\begin{aligned}', '')\n",
    "latex_expr = latex_expr.replace(r'\\end{aligned}', '')\n",
    "latex_expr = latex_expr.replace('$$', '')\n",
    "latex_expr = latex_expr.replace('\\n', r'\\\\')\n",
    "latex_expr = latex_expr.replace(r'\\\\', r'\\\\' + '\\n')\n",
    "print(latex_expr)"
   ]
  },
  {
   "cell_type": "code",
   "execution_count": null,
   "id": "1378f745",
   "metadata": {},
   "outputs": [],
   "source": [
    "# Optional debug print\n",
    "#print(\"Cleaned LaTeX Expression:\\n\", latex_expr)\n",
    "\n",
    "# Step 3: Plot safely\n",
    "plt.figure(figsize=(10, 3))\n",
    "plt.axis(\"off\")\n",
    "plt.text(0.5, 0.5, f\"${latex_expr}$\", fontsize=18, ha='center', va='center')\n",
    "plt.show()"
   ]
  },
  {
   "cell_type": "code",
   "execution_count": 14,
   "id": "6462b5a9",
   "metadata": {},
   "outputs": [
    {
     "name": "stdout",
     "output_type": "stream",
     "text": [
      "minimize ∑_{i=1}^m ∑_{j=1}^n c_ij x_ij\n"
     ]
    }
   ],
   "source": [
    "latex_expr = r\"\\min \\sum_{i=1}^{m} \\sum_{j=1}^{n} c_{ij} x_{ij}\"\n",
    "\n",
    "# Replace LaTeX commands with readable text\n",
    "readable_expr = latex_expr.replace(r\"\\min\", \"minimize\") \\\n",
    "                          .replace(r\"\\sum_{i=1}^{m}\", \"∑_{i=1}^m\") \\\n",
    "                          .replace(r\"\\sum_{j=1}^{n}\", \"∑_{j=1}^n\") \\\n",
    "                          .replace(r\"c_{ij}\", \"c_ij\") \\\n",
    "                          .replace(r\"x_{ij}\", \"x_ij\")\n",
    "\n",
    "print(readable_expr)"
   ]
  },
  {
   "cell_type": "code",
   "execution_count": 15,
   "id": "cd6214df",
   "metadata": {},
   "outputs": [
    {
     "name": "stdout",
     "output_type": "stream",
     "text": [
      "\\min \\sum_{i=1}^{m} \\sum_{j=1}^{n} c_{ij} x_{ij}\n"
     ]
    },
    {
     "data": {
      "image/png": "[encoded data removed]",
      "text/plain": [
       "<Figure size 1000x400 with 1 Axes>"
      ]
     },
     "metadata": {},
     "output_type": "display_data"
    }
   ],
   "source": [
    "import matplotlib.pyplot as plt\n",
    "\n",
    "# LaTeX-formatted equations\n",
    "equations = [\n",
    "    r\"$\\min \\sum_{i=1}^m \\sum_{j=1}^n c_{ij} x_{ij}$\",\n",
    "    r\"$\\sum_{j=1}^n x_{ij} \\leq s_i \\quad \\forall i$\",\n",
    "    r\"$\\sum_{i=1}^m x_{ij} \\geq d_j \\quad \\forall j$\",\n",
    "    r\"$x_{ij} \\geq 0 \\quad \\forall i,j$\"\n",
    "]\n",
    "\n",
    "\n",
    "# Create a figure with LaTeX rendering\n",
    "plt.figure(figsize=(10, 4))\n",
    "print(latex_expr)\n",
    "for i, eq in enumerate(equations):\n",
    "    \n",
    "    plt.text(0.5, 0.5, f\"${latex_expr}$\", fontsize=18, ha='center', va='center')\n",
    "plt.show()\n"
   ]
  },
  {
   "cell_type": "code",
   "execution_count": 17,
   "id": "093a5f41",
   "metadata": {},
   "outputs": [
    {
     "name": "stdout",
     "output_type": "stream",
     "text": [
      "\\sum_{j=1}^n x_{ij} \\leq s_i \\quad \\forall i\n"
     ]
    }
   ],
   "source": [
    "print(equations[1].replace('$', ''))"
   ]
  },
  {
   "cell_type": "code",
   "execution_count": 16,
   "id": "a2ec9800",
   "metadata": {},
   "outputs": [
    {
     "name": "stdout",
     "output_type": "stream",
     "text": [
      "\n",
      "\n",
      "\n",
      "\n",
      "\n",
      "\n",
      "\n",
      "\n"
     ]
    },
    {
     "data": {
      "image/png": "[encoded data removed]",
      "text/plain": [
       "<Figure size 640x480 with 1 Axes>"
      ]
     },
     "metadata": {},
     "output_type": "display_data"
    }
   ],
   "source": [
    "#matches = re.findall(r'(\\\\frac\\{d\\}\\{dx\\}.*?)(?=\\n\\s*\\n|$)', equations, flags=re.DOTALL)\n",
    "#print(equations[1].replace('$', ''))\n",
    "for i, eq in enumerate(equations):\n",
    "    plt.text(0.5, 1 - i * 0.20, f\"${eq.replace('$', '') }$\", fontsize=18, ha='center', va='center')\n",
    "    print('\\n')\n",
    "plt.show()"
   ]
  },
  {
   "cell_type": "code",
   "execution_count": 50,
   "id": "707cbadd",
   "metadata": {},
   "outputs": [
    {
     "name": "stdout",
     "output_type": "stream",
     "text": [
      "$\\min \\sum_{i=1}^m \\sum_{j=1}^n c_{ij} x_{ij}$\n",
      "$\\sum_{j=1}^n x_{ij} \\leq s_i \\quad \\forall i$\n",
      "$\\sum_{i=1}^m x_{ij} \\geq d_j \\quad \\forall j$\n",
      "$x_{ij} \\geq 0 \\quad \\forall i,j$\n"
     ]
    }
   ],
   "source": [
    "for i, eq in enumerate(equations):\n",
    "    print(eq)"
   ]
  }
 ],
 "metadata": {
  "kernelspec": {
   "display_name": "Python 3",
   "language": "python",
   "name": "python3"
  },
  "language_info": {
   "codemirror_mode": {
    "name": "ipython",
    "version": 3
   },
   "file_extension": ".py",
   "mimetype": "text/x-python",
   "name": "python",
   "nbconvert_exporter": "python",
   "pygments_lexer": "ipython3",
   "version": "3.10.0"
  }
 },
 "nbformat": 4,
 "nbformat_minor": 5
}
