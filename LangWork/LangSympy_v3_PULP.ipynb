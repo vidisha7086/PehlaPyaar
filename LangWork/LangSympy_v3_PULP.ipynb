{
 "cells": [
  {
   "cell_type": "code",
   "execution_count": 1,
   "id": "b65061cd",
   "metadata": {},
   "outputs": [],
   "source": [
    "from langchain_groq import ChatGroq\n",
    "from langchain.prompts import ChatPromptTemplate\n",
    "from dotenv import load_dotenv\n",
    "\n",
    "import matplotlib.pyplot as plt\n",
    "\n",
    "import os\n",
    "\n",
    "load_dotenv()\n",
    "os.environ['GROQ_API_KEY']=os.getenv('GROQ_API_KEY')\n",
    "\n",
    "llm_model=ChatGroq(model='llama-3.1-8b-instant', temperature=0)"
   ]
  },
  {
   "cell_type": "code",
   "execution_count": null,
   "id": "441819bf",
   "metadata": {},
   "outputs": [
    {
     "name": "stdout",
     "output_type": "stream",
     "text": [
      "Status: Optimal\n",
      "Optimal Production:\n",
      "Product A = 20.0 units\n",
      "Product B = 20.0 units\n",
      "Total Profit = $2400.0\n"
     ]
    }
   ],
   "source": [
    " "
   ]
  },
  {
   "cell_type": "code",
   "execution_count": 14,
   "id": "b68ca26d",
   "metadata": {},
   "outputs": [],
   "source": [
    "user_input = \"\"\"\n",
    "Maximize profit where:\n",
    "- Product A (x) gives \\$50 profit, Product B (y) gives \\$70.\n",
    "- Constraints:\n",
    "  - Machine M1: 2x + 3y <= 100 hours\n",
    "  - Machine M2: x + 2y <= 80 hours\n",
    "  - Machine M3: 4x + 2y <= 120 hours\n",
    "\"\"\""
   ]
  },
  {
   "cell_type": "code",
   "execution_count": 21,
   "id": "3c4a8184",
   "metadata": {},
   "outputs": [],
   "source": [
    "prompt = ChatPromptTemplate.from_template('''\n",
    "    Convert the following linear programming problem description into structured JSON format:\n",
    "    \n",
    "    USER INPUT: \"{user_input}\"\n",
    "    \n",
    "    OUTPUT FORMAT:\n",
    "    {{\n",
    "      \"objective\": \"maximize/minimize\",\n",
    "      \"objective_function\": \"expression\",\n",
    "      \"variables\": [\"x\", \"y\", ...],\n",
    "      \"constraints\": [\n",
    "        {{\"expression\": \"2x + 3y <= 100\", \"description\": \"Machine M1 time\"}},\n",
    "        ...\n",
    "      ]\n",
    "    }}\n",
    "''')"
   ]
  },
  {
   "cell_type": "code",
   "execution_count": 24,
   "id": "46c7a680",
   "metadata": {},
   "outputs": [
    {
     "name": "stdout",
     "output_type": "stream",
     "text": [
      "Structured Output:\n",
      " Here's the conversion of the linear programming problem description into structured JSON format:\n",
      "\n",
      "```json\n",
      "{\n",
      "  \"objective\": \"maximize\",\n",
      "  \"objective_function\": \"50x + 70y\",\n",
      "  \"variables\": [\"x\", \"y\"],\n",
      "  \"constraints\": [\n",
      "    {\n",
      "      \"expression\": \"2x + 3y <= 100\",\n",
      "      \"description\": \"Machine M1 time\"\n",
      "    },\n",
      "    {\n",
      "      \"expression\": \"x + 2y <= 80\",\n",
      "      \"description\": \"Machine M2 time\"\n",
      "    },\n",
      "    {\n",
      "      \"expression\": \"4x + 2y <= 120\",\n",
      "      \"description\": \"Machine M3 time\"\n",
      "    }\n",
      "  ]\n",
      "}\n",
      "```\n",
      "\n",
      "Note that I've also added the objective function expression, which is a linear combination of the variables x and y with coefficients 50 and 70, respectively.\n"
     ]
    }
   ],
   "source": [
    "chain=prompt|llm_model\n",
    "structured_output = chain.invoke({\n",
    "    #\"expression\": \"2x + 3y <= 100\",  # Add this missing variable\n",
    "    \"user_input\": user_input\n",
    "})\n",
    "print(\"Structured Output:\\n\", structured_output.content)"
   ]
  },
  {
   "cell_type": "code",
   "execution_count": 18,
   "id": "0dc76f89",
   "metadata": {},
   "outputs": [
    {
     "name": "stdout",
     "output_type": "stream",
     "text": [
      "first=ChatPromptTemplate(input_variables=['\"expression\"', 'user_input'], input_types={}, partial_variables={}, messages=[HumanMessagePromptTemplate(prompt=PromptTemplate(input_variables=['\"expression\"', 'user_input'], input_types={}, partial_variables={}, template='\\n    Convert the following linear programming problem description into structured JSON format:\\n    \\n    USER INPUT: \"{user_input}\"\\n    \\n    OUTPUT FORMAT:\\n    {{\\n      \"objective\": \"maximize/minimize\",\\n      \"objective_function\": \"expression\",\\n      \"variables\": [\"x\", \"y\", ...],\\n      \"constraints\": [\\n        {\"expression\": \"2x + 3y <= 100\", \"description\": \"Machine M1 time\"},\\n        ...\\n      ]\\n    }}'), additional_kwargs={})]) middle=[] last=ChatGroq(client=<groq.resources.chat.completions.Completions object at 0x000001CBB26A7100>, async_client=<groq.resources.chat.completions.AsyncCompletions object at 0x000001CBB26DD540>, model_name='llama-3.1-8b-instant', temperature=1e-08, model_kwargs={}, groq_api_key=SecretStr('**********'))\n"
     ]
    }
   ],
   "source": [
    "print(chain)"
   ]
  },
  {
   "cell_type": "code",
   "execution_count": 19,
   "id": "34144e24",
   "metadata": {},
   "outputs": [
    {
     "name": "stdout",
     "output_type": "stream",
     "text": [
      "Input schema: {'properties': {'\"expression\"': {'title': '\"Expression\"', 'type': 'string'}, 'user_input': {'title': 'User Input', 'type': 'string'}}, 'required': ['\"expression\"', 'user_input'], 'title': 'PromptInput', 'type': 'object'}\n"
     ]
    },
    {
     "name": "stderr",
     "output_type": "stream",
     "text": [
      "C:\\Users\\shukl\\AppData\\Local\\Temp\\ipykernel_28824\\3331722754.py:1: PydanticDeprecatedSince20: The `schema` method is deprecated; use `model_json_schema` instead. Deprecated in Pydantic V2.0 to be removed in V3.0. See Pydantic V2 Migration Guide at https://errors.pydantic.dev/2.11/migration/\n",
      "  print(\"Input schema:\", chain.input_schema.schema())\n"
     ]
    }
   ],
   "source": [
    "print(\"Input schema:\", chain.input_schema.schema())\n",
    "\n"
   ]
  },
  {
   "cell_type": "code",
   "execution_count": 20,
   "id": "965c6af5",
   "metadata": {},
   "outputs": [
    {
     "name": "stdout",
     "output_type": "stream",
     "text": [
      "Output schema: {'$defs': {'AIMessage': {'additionalProperties': True, 'description': 'Message from an AI.\\n\\nAIMessage is returned from a chat model as a response to a prompt.\\n\\nThis message represents the output of the model and consists of both\\nthe raw output as returned by the model together standardized fields\\n(e.g., tool calls, usage metadata) added by the LangChain framework.', 'properties': {'content': {'anyOf': [{'type': 'string'}, {'items': {'anyOf': [{'type': 'string'}, {'additionalProperties': True, 'type': 'object'}]}, 'type': 'array'}], 'title': 'Content'}, 'additional_kwargs': {'additionalProperties': True, 'title': 'Additional Kwargs', 'type': 'object'}, 'response_metadata': {'additionalProperties': True, 'title': 'Response Metadata', 'type': 'object'}, 'type': {'const': 'ai', 'default': 'ai', 'title': 'Type', 'type': 'string'}, 'name': {'anyOf': [{'type': 'string'}, {'type': 'null'}], 'default': None, 'title': 'Name'}, 'id': {'anyOf': [{'type': 'string'}, {'type': 'null'}], 'default': None, 'title': 'Id'}, 'example': {'default': False, 'title': 'Example', 'type': 'boolean'}, 'tool_calls': {'default': [], 'items': {'$ref': '#/$defs/ToolCall'}, 'title': 'Tool Calls', 'type': 'array'}, 'invalid_tool_calls': {'default': [], 'items': {'$ref': '#/$defs/InvalidToolCall'}, 'title': 'Invalid Tool Calls', 'type': 'array'}, 'usage_metadata': {'anyOf': [{'$ref': '#/$defs/UsageMetadata'}, {'type': 'null'}], 'default': None}}, 'required': ['content'], 'title': 'AIMessage', 'type': 'object'}, 'AIMessageChunk': {'additionalProperties': True, 'description': 'Message chunk from an AI.', 'properties': {'content': {'anyOf': [{'type': 'string'}, {'items': {'anyOf': [{'type': 'string'}, {'additionalProperties': True, 'type': 'object'}]}, 'type': 'array'}], 'title': 'Content'}, 'additional_kwargs': {'additionalProperties': True, 'title': 'Additional Kwargs', 'type': 'object'}, 'response_metadata': {'additionalProperties': True, 'title': 'Response Metadata', 'type': 'object'}, 'type': {'const': 'AIMessageChunk', 'default': 'AIMessageChunk', 'title': 'Type', 'type': 'string'}, 'name': {'anyOf': [{'type': 'string'}, {'type': 'null'}], 'default': None, 'title': 'Name'}, 'id': {'anyOf': [{'type': 'string'}, {'type': 'null'}], 'default': None, 'title': 'Id'}, 'example': {'default': False, 'title': 'Example', 'type': 'boolean'}, 'tool_calls': {'default': [], 'items': {'$ref': '#/$defs/ToolCall'}, 'title': 'Tool Calls', 'type': 'array'}, 'invalid_tool_calls': {'default': [], 'items': {'$ref': '#/$defs/InvalidToolCall'}, 'title': 'Invalid Tool Calls', 'type': 'array'}, 'usage_metadata': {'anyOf': [{'$ref': '#/$defs/UsageMetadata'}, {'type': 'null'}], 'default': None}, 'tool_call_chunks': {'default': [], 'items': {'$ref': '#/$defs/ToolCallChunk'}, 'title': 'Tool Call Chunks', 'type': 'array'}}, 'required': ['content'], 'title': 'AIMessageChunk', 'type': 'object'}, 'ChatMessage': {'additionalProperties': True, 'description': 'Message that can be assigned an arbitrary speaker (i.e. role).', 'properties': {'content': {'anyOf': [{'type': 'string'}, {'items': {'anyOf': [{'type': 'string'}, {'additionalProperties': True, 'type': 'object'}]}, 'type': 'array'}], 'title': 'Content'}, 'additional_kwargs': {'additionalProperties': True, 'title': 'Additional Kwargs', 'type': 'object'}, 'response_metadata': {'additionalProperties': True, 'title': 'Response Metadata', 'type': 'object'}, 'type': {'const': 'chat', 'default': 'chat', 'title': 'Type', 'type': 'string'}, 'name': {'anyOf': [{'type': 'string'}, {'type': 'null'}], 'default': None, 'title': 'Name'}, 'id': {'anyOf': [{'type': 'string'}, {'type': 'null'}], 'default': None, 'title': 'Id'}, 'role': {'title': 'Role', 'type': 'string'}}, 'required': ['content', 'role'], 'title': 'ChatMessage', 'type': 'object'}, 'ChatMessageChunk': {'additionalProperties': True, 'description': 'Chat Message chunk.', 'properties': {'content': {'anyOf': [{'type': 'string'}, {'items': {'anyOf': [{'type': 'string'}, {'additionalProperties': True, 'type': 'object'}]}, 'type': 'array'}], 'title': 'Content'}, 'additional_kwargs': {'additionalProperties': True, 'title': 'Additional Kwargs', 'type': 'object'}, 'response_metadata': {'additionalProperties': True, 'title': 'Response Metadata', 'type': 'object'}, 'type': {'const': 'ChatMessageChunk', 'default': 'ChatMessageChunk', 'title': 'Type', 'type': 'string'}, 'name': {'anyOf': [{'type': 'string'}, {'type': 'null'}], 'default': None, 'title': 'Name'}, 'id': {'anyOf': [{'type': 'string'}, {'type': 'null'}], 'default': None, 'title': 'Id'}, 'role': {'title': 'Role', 'type': 'string'}}, 'required': ['content', 'role'], 'title': 'ChatMessageChunk', 'type': 'object'}, 'FunctionMessage': {'additionalProperties': True, 'description': 'Message for passing the result of executing a tool back to a model.\\n\\nFunctionMessage are an older version of the ToolMessage schema, and\\ndo not contain the tool_call_id field.\\n\\nThe tool_call_id field is used to associate the tool call request with the\\ntool call response. This is useful in situations where a chat model is able\\nto request multiple tool calls in parallel.', 'properties': {'content': {'anyOf': [{'type': 'string'}, {'items': {'anyOf': [{'type': 'string'}, {'additionalProperties': True, 'type': 'object'}]}, 'type': 'array'}], 'title': 'Content'}, 'additional_kwargs': {'additionalProperties': True, 'title': 'Additional Kwargs', 'type': 'object'}, 'response_metadata': {'additionalProperties': True, 'title': 'Response Metadata', 'type': 'object'}, 'type': {'const': 'function', 'default': 'function', 'title': 'Type', 'type': 'string'}, 'name': {'title': 'Name', 'type': 'string'}, 'id': {'anyOf': [{'type': 'string'}, {'type': 'null'}], 'default': None, 'title': 'Id'}}, 'required': ['content', 'name'], 'title': 'FunctionMessage', 'type': 'object'}, 'FunctionMessageChunk': {'additionalProperties': True, 'description': 'Function Message chunk.', 'properties': {'content': {'anyOf': [{'type': 'string'}, {'items': {'anyOf': [{'type': 'string'}, {'additionalProperties': True, 'type': 'object'}]}, 'type': 'array'}], 'title': 'Content'}, 'additional_kwargs': {'additionalProperties': True, 'title': 'Additional Kwargs', 'type': 'object'}, 'response_metadata': {'additionalProperties': True, 'title': 'Response Metadata', 'type': 'object'}, 'type': {'const': 'FunctionMessageChunk', 'default': 'FunctionMessageChunk', 'title': 'Type', 'type': 'string'}, 'name': {'title': 'Name', 'type': 'string'}, 'id': {'anyOf': [{'type': 'string'}, {'type': 'null'}], 'default': None, 'title': 'Id'}}, 'required': ['content', 'name'], 'title': 'FunctionMessageChunk', 'type': 'object'}, 'HumanMessage': {'additionalProperties': True, 'description': 'Message from a human.\\n\\nHumanMessages are messages that are passed in from a human to the model.\\n\\nExample:\\n\\n    .. code-block:: python\\n\\n        from langchain_core.messages import HumanMessage, SystemMessage\\n\\n        messages = [\\n            SystemMessage(\\n                content=\"You are a helpful assistant! Your name is Bob.\"\\n            ),\\n            HumanMessage(\\n                content=\"What is your name?\"\\n            )\\n        ]\\n\\n        # Instantiate a chat model and invoke it with the messages\\n        model = ...\\n        print(model.invoke(messages))', 'properties': {'content': {'anyOf': [{'type': 'string'}, {'items': {'anyOf': [{'type': 'string'}, {'additionalProperties': True, 'type': 'object'}]}, 'type': 'array'}], 'title': 'Content'}, 'additional_kwargs': {'additionalProperties': True, 'title': 'Additional Kwargs', 'type': 'object'}, 'response_metadata': {'additionalProperties': True, 'title': 'Response Metadata', 'type': 'object'}, 'type': {'const': 'human', 'default': 'human', 'title': 'Type', 'type': 'string'}, 'name': {'anyOf': [{'type': 'string'}, {'type': 'null'}], 'default': None, 'title': 'Name'}, 'id': {'anyOf': [{'type': 'string'}, {'type': 'null'}], 'default': None, 'title': 'Id'}, 'example': {'default': False, 'title': 'Example', 'type': 'boolean'}}, 'required': ['content'], 'title': 'HumanMessage', 'type': 'object'}, 'HumanMessageChunk': {'additionalProperties': True, 'description': 'Human Message chunk.', 'properties': {'content': {'anyOf': [{'type': 'string'}, {'items': {'anyOf': [{'type': 'string'}, {'additionalProperties': True, 'type': 'object'}]}, 'type': 'array'}], 'title': 'Content'}, 'additional_kwargs': {'additionalProperties': True, 'title': 'Additional Kwargs', 'type': 'object'}, 'response_metadata': {'additionalProperties': True, 'title': 'Response Metadata', 'type': 'object'}, 'type': {'const': 'HumanMessageChunk', 'default': 'HumanMessageChunk', 'title': 'Type', 'type': 'string'}, 'name': {'anyOf': [{'type': 'string'}, {'type': 'null'}], 'default': None, 'title': 'Name'}, 'id': {'anyOf': [{'type': 'string'}, {'type': 'null'}], 'default': None, 'title': 'Id'}, 'example': {'default': False, 'title': 'Example', 'type': 'boolean'}}, 'required': ['content'], 'title': 'HumanMessageChunk', 'type': 'object'}, 'InputTokenDetails': {'description': 'Breakdown of input token counts.\\n\\nDoes *not* need to sum to full input token count. Does *not* need to have all keys.\\n\\nExample:\\n\\n    .. code-block:: python\\n\\n        {\\n            \"audio\": 10,\\n            \"cache_creation\": 200,\\n            \"cache_read\": 100,\\n        }\\n\\n.. versionadded:: 0.3.9', 'properties': {'audio': {'title': 'Audio', 'type': 'integer'}, 'cache_creation': {'title': 'Cache Creation', 'type': 'integer'}, 'cache_read': {'title': 'Cache Read', 'type': 'integer'}}, 'title': 'InputTokenDetails', 'type': 'object'}, 'InvalidToolCall': {'description': 'Allowance for errors made by LLM.\\n\\nHere we add an `error` key to surface errors made during generation\\n(e.g., invalid JSON arguments.)', 'properties': {'name': {'anyOf': [{'type': 'string'}, {'type': 'null'}], 'title': 'Name'}, 'args': {'anyOf': [{'type': 'string'}, {'type': 'null'}], 'title': 'Args'}, 'id': {'anyOf': [{'type': 'string'}, {'type': 'null'}], 'title': 'Id'}, 'error': {'anyOf': [{'type': 'string'}, {'type': 'null'}], 'title': 'Error'}, 'type': {'const': 'invalid_tool_call', 'title': 'Type', 'type': 'string'}}, 'required': ['name', 'args', 'id', 'error'], 'title': 'InvalidToolCall', 'type': 'object'}, 'OutputTokenDetails': {'description': 'Breakdown of output token counts.\\n\\nDoes *not* need to sum to full output token count. Does *not* need to have all keys.\\n\\nExample:\\n\\n    .. code-block:: python\\n\\n        {\\n            \"audio\": 10,\\n            \"reasoning\": 200,\\n        }\\n\\n.. versionadded:: 0.3.9', 'properties': {'audio': {'title': 'Audio', 'type': 'integer'}, 'reasoning': {'title': 'Reasoning', 'type': 'integer'}}, 'title': 'OutputTokenDetails', 'type': 'object'}, 'SystemMessage': {'additionalProperties': True, 'description': 'Message for priming AI behavior.\\n\\nThe system message is usually passed in as the first of a sequence\\nof input messages.\\n\\nExample:\\n\\n    .. code-block:: python\\n\\n        from langchain_core.messages import HumanMessage, SystemMessage\\n\\n        messages = [\\n            SystemMessage(\\n                content=\"You are a helpful assistant! Your name is Bob.\"\\n            ),\\n            HumanMessage(\\n                content=\"What is your name?\"\\n            )\\n        ]\\n\\n        # Define a chat model and invoke it with the messages\\n        print(model.invoke(messages))', 'properties': {'content': {'anyOf': [{'type': 'string'}, {'items': {'anyOf': [{'type': 'string'}, {'additionalProperties': True, 'type': 'object'}]}, 'type': 'array'}], 'title': 'Content'}, 'additional_kwargs': {'additionalProperties': True, 'title': 'Additional Kwargs', 'type': 'object'}, 'response_metadata': {'additionalProperties': True, 'title': 'Response Metadata', 'type': 'object'}, 'type': {'const': 'system', 'default': 'system', 'title': 'Type', 'type': 'string'}, 'name': {'anyOf': [{'type': 'string'}, {'type': 'null'}], 'default': None, 'title': 'Name'}, 'id': {'anyOf': [{'type': 'string'}, {'type': 'null'}], 'default': None, 'title': 'Id'}}, 'required': ['content'], 'title': 'SystemMessage', 'type': 'object'}, 'SystemMessageChunk': {'additionalProperties': True, 'description': 'System Message chunk.', 'properties': {'content': {'anyOf': [{'type': 'string'}, {'items': {'anyOf': [{'type': 'string'}, {'additionalProperties': True, 'type': 'object'}]}, 'type': 'array'}], 'title': 'Content'}, 'additional_kwargs': {'additionalProperties': True, 'title': 'Additional Kwargs', 'type': 'object'}, 'response_metadata': {'additionalProperties': True, 'title': 'Response Metadata', 'type': 'object'}, 'type': {'const': 'SystemMessageChunk', 'default': 'SystemMessageChunk', 'title': 'Type', 'type': 'string'}, 'name': {'anyOf': [{'type': 'string'}, {'type': 'null'}], 'default': None, 'title': 'Name'}, 'id': {'anyOf': [{'type': 'string'}, {'type': 'null'}], 'default': None, 'title': 'Id'}}, 'required': ['content'], 'title': 'SystemMessageChunk', 'type': 'object'}, 'ToolCall': {'description': 'Represents a request to call a tool.\\n\\nExample:\\n\\n    .. code-block:: python\\n\\n        {\\n            \"name\": \"foo\",\\n            \"args\": {\"a\": 1},\\n            \"id\": \"123\"\\n        }\\n\\n    This represents a request to call the tool named \"foo\" with arguments {\"a\": 1}\\n    and an identifier of \"123\".', 'properties': {'name': {'title': 'Name', 'type': 'string'}, 'args': {'additionalProperties': True, 'title': 'Args', 'type': 'object'}, 'id': {'anyOf': [{'type': 'string'}, {'type': 'null'}], 'title': 'Id'}, 'type': {'const': 'tool_call', 'title': 'Type', 'type': 'string'}}, 'required': ['name', 'args', 'id'], 'title': 'ToolCall', 'type': 'object'}, 'ToolCallChunk': {'description': 'A chunk of a tool call (e.g., as part of a stream).\\n\\nWhen merging ToolCallChunks (e.g., via AIMessageChunk.__add__),\\nall string attributes are concatenated. Chunks are only merged if their\\nvalues of `index` are equal and not None.\\n\\nExample:\\n\\n.. code-block:: python\\n\\n    left_chunks = [ToolCallChunk(name=\"foo\", args=\\'{\"a\":\\', index=0)]\\n    right_chunks = [ToolCallChunk(name=None, args=\\'1}\\', index=0)]\\n\\n    (\\n        AIMessageChunk(content=\"\", tool_call_chunks=left_chunks)\\n        + AIMessageChunk(content=\"\", tool_call_chunks=right_chunks)\\n    ).tool_call_chunks == [ToolCallChunk(name=\\'foo\\', args=\\'{\"a\":1}\\', index=0)]', 'properties': {'name': {'anyOf': [{'type': 'string'}, {'type': 'null'}], 'title': 'Name'}, 'args': {'anyOf': [{'type': 'string'}, {'type': 'null'}], 'title': 'Args'}, 'id': {'anyOf': [{'type': 'string'}, {'type': 'null'}], 'title': 'Id'}, 'index': {'anyOf': [{'type': 'integer'}, {'type': 'null'}], 'title': 'Index'}, 'type': {'const': 'tool_call_chunk', 'title': 'Type', 'type': 'string'}}, 'required': ['name', 'args', 'id', 'index'], 'title': 'ToolCallChunk', 'type': 'object'}, 'ToolMessage': {'additionalProperties': True, 'description': 'Message for passing the result of executing a tool back to a model.\\n\\nToolMessages contain the result of a tool invocation. Typically, the result\\nis encoded inside the `content` field.\\n\\nExample: A ToolMessage representing a result of 42 from a tool call with id\\n\\n    .. code-block:: python\\n\\n        from langchain_core.messages import ToolMessage\\n\\n        ToolMessage(content=\\'42\\', tool_call_id=\\'call_Jja7J89XsjrOLA5r!MEOW!SL\\')\\n\\n\\nExample: A ToolMessage where only part of the tool output is sent to the model\\n    and the full output is passed in to artifact.\\n\\n    .. versionadded:: 0.2.17\\n\\n    .. code-block:: python\\n\\n        from langchain_core.messages import ToolMessage\\n\\n        tool_output = {\\n            \"stdout\": \"From the graph we can see that the correlation between x and y is ...\",\\n            \"stderr\": None,\\n            \"artifacts\": {\"type\": \"image\", \"base64_data\": \"/9j/4gIcSU...\"},\\n        }\\n\\n        ToolMessage(\\n            content=tool_output[\"stdout\"],\\n            artifact=tool_output,\\n            tool_call_id=\\'call_Jja7J89XsjrOLA5r!MEOW!SL\\',\\n        )\\n\\nThe tool_call_id field is used to associate the tool call request with the\\ntool call response. This is useful in situations where a chat model is able\\nto request multiple tool calls in parallel.', 'properties': {'content': {'anyOf': [{'type': 'string'}, {'items': {'anyOf': [{'type': 'string'}, {'additionalProperties': True, 'type': 'object'}]}, 'type': 'array'}], 'title': 'Content'}, 'additional_kwargs': {'additionalProperties': True, 'title': 'Additional Kwargs', 'type': 'object'}, 'response_metadata': {'additionalProperties': True, 'title': 'Response Metadata', 'type': 'object'}, 'type': {'const': 'tool', 'default': 'tool', 'title': 'Type', 'type': 'string'}, 'name': {'anyOf': [{'type': 'string'}, {'type': 'null'}], 'default': None, 'title': 'Name'}, 'id': {'anyOf': [{'type': 'string'}, {'type': 'null'}], 'default': None, 'title': 'Id'}, 'tool_call_id': {'title': 'Tool Call Id', 'type': 'string'}, 'artifact': {'default': None, 'title': 'Artifact'}, 'status': {'default': 'success', 'enum': ['success', 'error'], 'title': 'Status', 'type': 'string'}}, 'required': ['content', 'tool_call_id'], 'title': 'ToolMessage', 'type': 'object'}, 'ToolMessageChunk': {'additionalProperties': True, 'description': 'Tool Message chunk.', 'properties': {'content': {'anyOf': [{'type': 'string'}, {'items': {'anyOf': [{'type': 'string'}, {'additionalProperties': True, 'type': 'object'}]}, 'type': 'array'}], 'title': 'Content'}, 'additional_kwargs': {'additionalProperties': True, 'title': 'Additional Kwargs', 'type': 'object'}, 'response_metadata': {'additionalProperties': True, 'title': 'Response Metadata', 'type': 'object'}, 'type': {'const': 'ToolMessageChunk', 'default': 'ToolMessageChunk', 'title': 'Type', 'type': 'string'}, 'name': {'anyOf': [{'type': 'string'}, {'type': 'null'}], 'default': None, 'title': 'Name'}, 'id': {'anyOf': [{'type': 'string'}, {'type': 'null'}], 'default': None, 'title': 'Id'}, 'tool_call_id': {'title': 'Tool Call Id', 'type': 'string'}, 'artifact': {'default': None, 'title': 'Artifact'}, 'status': {'default': 'success', 'enum': ['success', 'error'], 'title': 'Status', 'type': 'string'}}, 'required': ['content', 'tool_call_id'], 'title': 'ToolMessageChunk', 'type': 'object'}, 'UsageMetadata': {'description': 'Usage metadata for a message, such as token counts.\\n\\nThis is a standard representation of token usage that is consistent across models.\\n\\nExample:\\n\\n    .. code-block:: python\\n\\n        {\\n            \"input_tokens\": 350,\\n            \"output_tokens\": 240,\\n            \"total_tokens\": 590,\\n            \"input_token_details\": {\\n                \"audio\": 10,\\n                \"cache_creation\": 200,\\n                \"cache_read\": 100,\\n            },\\n            \"output_token_details\": {\\n                \"audio\": 10,\\n                \"reasoning\": 200,\\n            }\\n        }\\n\\n.. versionchanged:: 0.3.9\\n\\n    Added ``input_token_details`` and ``output_token_details``.', 'properties': {'input_tokens': {'title': 'Input Tokens', 'type': 'integer'}, 'output_tokens': {'title': 'Output Tokens', 'type': 'integer'}, 'total_tokens': {'title': 'Total Tokens', 'type': 'integer'}, 'input_token_details': {'$ref': '#/$defs/InputTokenDetails'}, 'output_token_details': {'$ref': '#/$defs/OutputTokenDetails'}}, 'required': ['input_tokens', 'output_tokens', 'total_tokens'], 'title': 'UsageMetadata', 'type': 'object'}}, 'oneOf': [{'$ref': '#/$defs/AIMessage'}, {'$ref': '#/$defs/HumanMessage'}, {'$ref': '#/$defs/ChatMessage'}, {'$ref': '#/$defs/SystemMessage'}, {'$ref': '#/$defs/FunctionMessage'}, {'$ref': '#/$defs/ToolMessage'}, {'$ref': '#/$defs/AIMessageChunk'}, {'$ref': '#/$defs/HumanMessageChunk'}, {'$ref': '#/$defs/ChatMessageChunk'}, {'$ref': '#/$defs/SystemMessageChunk'}, {'$ref': '#/$defs/FunctionMessageChunk'}, {'$ref': '#/$defs/ToolMessageChunk'}], 'title': 'ChatGroqOutput'}\n"
     ]
    }
   ],
   "source": [
    "print(\"Output schema:\", chain.output_schema.schema())"
   ]
  },
  {
   "cell_type": "code",
   "execution_count": 25,
   "id": "30986ff9",
   "metadata": {},
   "outputs": [
    {
     "name": "stdout",
     "output_type": "stream",
     "text": [
      "Status: Optimal\n",
      "Optimal Production:\n",
      "Product A = 20.0 units\n",
      "Product B = 20.0 units\n",
      "Total Profit = $2400.0\n"
     ]
    }
   ],
   "source": [
    "from pulp import *\n",
    "\n",
    "# Initialize the problem\n",
    "prob = LpProblem(\"Production_Planning\", LpMaximize)\n",
    "\n",
    "# Define decision variables\n",
    "x_A = LpVariable(\"Product_A\", lowBound=0, cat='Integer')\n",
    "x_B = LpVariable(\"Product_B\", lowBound=0, cat='Integer')\n",
    "\n",
    "# Objective function\n",
    "prob += 50 * x_A + 70 * x_B, \"Total_Profit\"\n",
    "\n",
    "# Constraints\n",
    "prob += 2 * x_A + 3 * x_B <= 100, \"Machine_M1_Time\"\n",
    "prob += x_A + 2 * x_B <= 80, \"Machine_M2_Time\"\n",
    "prob += 4 * x_A + 2 * x_B <= 120, \"Machine_M3_Time\"\n",
    "\n",
    "# Solve the problem\n",
    "prob.solve()\n",
    "\n",
    "# Print results\n",
    "print(\"Status:\", LpStatus[prob.status])\n",
    "print(\"Optimal Production:\")\n",
    "print(f\"Product A = {x_A.varValue} units\")\n",
    "print(f\"Product B = {x_B.varValue} units\")\n",
    "print(f\"Total Profit = ${value(prob.objective)}\")"
   ]
  },
  {
   "cell_type": "code",
   "execution_count": 31,
   "id": "4e0c582d",
   "metadata": {},
   "outputs": [
    {
     "name": "stdout",
     "output_type": "stream",
     "text": [
      "Structured Output:\n",
      " Here's the conversion of the linear programming problem description into structured JSON format:\n",
      "\n",
      "```json\n",
      "{\n",
      "  \"objective\": \"maximize\",\n",
      "  \"objective_function\": \"50x + 70y\",\n",
      "  \"variables\": [\"x\", \"y\"],\n",
      "  \"constraints\": [\n",
      "    {\n",
      "      \"expression\": \"2x + 3y <= 100\",\n",
      "      \"description\": \"Machine M1 time\"\n",
      "    },\n",
      "    {\n",
      "      \"expression\": \"x + 2y <= 80\",\n",
      "      \"description\": \"Machine M2 time\"\n",
      "    },\n",
      "    {\n",
      "      \"expression\": \"4x + 2y <= 120\",\n",
      "      \"description\": \"Machine M3 time\"\n",
      "    }\n",
      "  ]\n",
      "}\n",
      "```\n",
      "\n",
      "Note that I've also added the objective function expression, which is a linear combination of the variables x and y with coefficients 50 and 70, respectively.\n"
     ]
    }
   ],
   "source": [
    "from langchain_groq import ChatGroq\n",
    "from langchain.prompts import ChatPromptTemplate\n",
    "from dotenv import load_dotenv\n",
    "import json\n",
    "import re\n",
    "import matplotlib.pyplot as plt\n",
    "\n",
    "import os\n",
    "\n",
    "load_dotenv()\n",
    "os.environ['GROQ_API_KEY']=os.getenv('GROQ_API_KEY')\n",
    "\n",
    "llm_model=ChatGroq(model='llama-3.1-8b-instant', temperature=0)\n",
    "\n",
    "user_input = \"\"\"\n",
    "Maximize profit where:\n",
    "- Product A (x) gives \\$50 profit, Product B (y) gives \\$70.\n",
    "- Constraints:\n",
    "  - Machine M1: 2x + 3y <= 100 hours\n",
    "  - Machine M2: x + 2y <= 80 hours\n",
    "  - Machine M3: 4x + 2y <= 120 hours\n",
    "\"\"\"\n",
    "\n",
    "prompt = ChatPromptTemplate.from_template('''\n",
    "    Convert the following linear programming problem description into structured JSON format:\n",
    "    \n",
    "    USER INPUT: \"{user_input}\"\n",
    "    \n",
    "    OUTPUT FORMAT:\n",
    "    {{\n",
    "      \"objective\": \"maximize/minimize\",\n",
    "      \"objective_function\": \"expression\",\n",
    "      \"variables\": [\"x\", \"y\", ...],\n",
    "      \"constraints\": [\n",
    "        {{\"expression\": \"2x + 3y <= 100\", \"description\": \"Machine M1 time\"}},\n",
    "        ...\n",
    "      ]\n",
    "    }}\n",
    "''')\n",
    "\n",
    "\n",
    "chain=prompt|llm_model\n",
    "structured_output = chain.invoke({\n",
    "    #\"expression\": \"2x + 3y <= 100\",  # Add this missing variable\n",
    "    \"user_input\": user_input\n",
    "})\n",
    "print(\"Structured Output:\\n\", structured_output.content)"
   ]
  },
  {
   "cell_type": "code",
   "execution_count": 41,
   "id": "d7136872",
   "metadata": {},
   "outputs": [
    {
     "name": "stdout",
     "output_type": "stream",
     "text": [
      "\n",
      "Parsed Problem Data:\n",
      "{'objective': 'maximize', 'objective_function': '50*x + 70*y', 'variables': ['x', 'y'], 'constraints': [{'expression': '2*x + 3*y <= 100', 'description': 'Machine M1 time'}, {'expression': 'x + 2*y <= 80', 'description': 'Machine M2 time'}, {'expression': '4*x + 2*y <= 120', 'description': 'Machine M3 time'}]}\n",
      "\n",
      "=== Solution ===\n",
      "Status: Optimal\n",
      "Objective Value: 2400.0\n",
      "Variable Values:\n",
      "x: 20.0\n",
      "y: 20.0\n",
      "\n",
      "Constraints:\n",
      "Constraint_1: 0.0 (slack: 0.0)\n",
      "Constraint_2: -20.0 (slack: -20.0)\n",
      "Constraint_3: 0.0 (slack: 0.0)\n"
     ]
    }
   ],
   "source": [
    "problem_data = json.loads(structured_output.content)\n",
    "print(\"\\nParsed Problem Data:\")\n",
    "print(problem_data)\n",
    "\n",
    "if problem_data:\n",
    "    # Initialize the problem\n",
    "    prob = LpProblem(\"Production_Problem\", \n",
    "                    LpMaximize if problem_data[\"objective\"] == \"maximize\" else LpMinimize)\n",
    "    \n",
    "    # Create variables\n",
    "    variables = {}\n",
    "    for var in problem_data[\"variables\"]:\n",
    "        variables[var] = LpVariable(var, lowBound=0)\n",
    "    \n",
    "    # Create objective function\n",
    "    obj_expr = problem_data[\"objective_function\"]\n",
    "    for var in variables:\n",
    "        obj_expr = obj_expr.replace(var, f\"variables['{var}']\")\n",
    "    prob += eval(obj_expr), \"Objective_Function\"\n",
    "    \n",
    "    # Add constraints\n",
    "    for idx, constraint in enumerate(problem_data[\"constraints\"]):\n",
    "        constr_expr = constraint[\"expression\"]\n",
    "        for var in variables:\n",
    "            constr_expr = constr_expr.replace(var, f\"variables['{var}']\")\n",
    "        prob += eval(constr_expr), f\"Constraint_{idx+1}\"\n",
    "    \n",
    "    # Solve the problem\n",
    "    prob.solve()\n",
    "    \n",
    "    # Step 9: Display results\n",
    "    print(\"\\n=== Solution ===\")\n",
    "    print(\"Status:\", LpStatus[prob.status])\n",
    "    print(\"Objective Value:\", value(prob.objective))\n",
    "    print(\"Variable Values:\")\n",
    "    for var in variables:\n",
    "        print(f\"{var}: {value(variables[var])}\")\n",
    "    \n",
    "    # Step 10: Print constraints status\n",
    "    print(\"\\nConstraints:\")\n",
    "    for name, constraint in prob.constraints.items():\n",
    "        print(f\"{name}: {constraint.value()} (slack: {-constraint.slack})\")\n",
    "else:\n",
    "    print(\"Could not proceed due to JSON parsing error\")"
   ]
  },
  {
   "cell_type": "code",
   "execution_count": 42,
   "id": "8bced00e",
   "metadata": {},
   "outputs": [
    {
     "name": "stdout",
     "output_type": "stream",
     "text": [
      "\n",
      "=== SOLUTION ===\n"
     ]
    },
    {
     "data": {
      "text/markdown": [
       "**Status:** Optimal"
      ],
      "text/plain": [
       "<IPython.core.display.Markdown object>"
      ]
     },
     "metadata": {},
     "output_type": "display_data"
    },
    {
     "data": {
      "text/markdown": [
       "**Optimal Value:** $2400.00"
      ],
      "text/plain": [
       "<IPython.core.display.Markdown object>"
      ]
     },
     "metadata": {},
     "output_type": "display_data"
    },
    {
     "name": "stdout",
     "output_type": "stream",
     "text": [
      "\n",
      "**Production Plan:**\n"
     ]
    },
    {
     "data": {
      "text/markdown": [
       "- x: 20.0 units"
      ],
      "text/plain": [
       "<IPython.core.display.Markdown object>"
      ]
     },
     "metadata": {},
     "output_type": "display_data"
    },
    {
     "data": {
      "text/markdown": [
       "- y: 20.0 units"
      ],
      "text/plain": [
       "<IPython.core.display.Markdown object>"
      ]
     },
     "metadata": {},
     "output_type": "display_data"
    },
    {
     "name": "stdout",
     "output_type": "stream",
     "text": [
      "\n",
      "**Constraints Analysis:**\n"
     ]
    },
    {
     "data": {
      "text/markdown": [
       "- Constraint 1: Used 0.0 of available resources | Slack: 0.0 | Binding"
      ],
      "text/plain": [
       "<IPython.core.display.Markdown object>"
      ]
     },
     "metadata": {},
     "output_type": "display_data"
    },
    {
     "data": {
      "text/markdown": [
       "- Constraint 2: Used -20.0 of available resources | Slack: -20.0 | Non-binding"
      ],
      "text/plain": [
       "<IPython.core.display.Markdown object>"
      ]
     },
     "metadata": {},
     "output_type": "display_data"
    },
    {
     "data": {
      "text/markdown": [
       "- Constraint 3: Used 0.0 of available resources | Slack: 0.0 | Binding"
      ],
      "text/plain": [
       "<IPython.core.display.Markdown object>"
      ]
     },
     "metadata": {},
     "output_type": "display_data"
    },
    {
     "name": "stdout",
     "output_type": "stream",
     "text": [
      "\n",
      "**Solution Visualization:**\n"
     ]
    },
    {
     "data": {
      "image/png": "[encoded data removed]",
      "text/plain": [
       "<Figure size 1000x500 with 1 Axes>"
      ]
     },
     "metadata": {},
     "output_type": "display_data"
    }
   ],
   "source": [
    "# [Previous imports and setup code remains the same until Step 9]\n",
    "\n",
    "# Step 9: Display results with better formatting\n",
    "from IPython.display import display, Markdown\n",
    "\n",
    "print(\"\\n=== SOLUTION ===\")\n",
    "display(Markdown(f\"**Status:** {LpStatus[prob.status]}\"))\n",
    "display(Markdown(f\"**Optimal Value:** ${value(prob.objective):.2f}\"))\n",
    "\n",
    "print(\"\\n**Production Plan:**\")\n",
    "for var in variables:\n",
    "    display(Markdown(f\"- {var}: {value(variables[var]):.1f} units\"))\n",
    "\n",
    "print(\"\\n**Constraints Analysis:**\")\n",
    "for name, constraint in prob.constraints.items():\n",
    "    status = \"Binding\" if constraint.value() == 0 else \"Non-binding\"\n",
    "    display(Markdown(\n",
    "        f\"- {name.replace('_', ' ')}: \"\n",
    "        f\"Used {constraint.value():.1f} of available resources | \"\n",
    "        f\"Slack: {-constraint.slack:.1f} | \"\n",
    "        f\"{status}\"\n",
    "    ))\n",
    "\n",
    "\n",
    "print(\"\\n**Solution Visualization:**\")\n",
    "    \n",
    "if len(variables) == 2:\n",
    "    # Prepare data for plotting\n",
    "    var_names = list(variables.keys())\n",
    "    values = [value(variables[var]) for var in var_names]\n",
    "    \n",
    "    plt.figure(figsize=(10, 5))\n",
    "    plt.bar(var_names, values, color=['blue', 'orange'])\n",
    "    plt.title('Optimal Production Quantities')\n",
    "    plt.ylabel('Units to Produce')\n",
    "    plt.xlabel('Products')\n",
    "    plt.grid(axis='y', linestyle='--')\n",
    "    plt.show()\n",
    "else:\n",
    "    print(\"(Visualization available only for 2-variable problems)\")\n"
   ]
  },
  {
   "cell_type": "code",
   "execution_count": null,
   "id": "f3bc41ba",
   "metadata": {},
   "outputs": [
    {
     "ename": "DOcplexException",
     "evalue": "Cannot solve model: no CPLEX runtime found.",
     "output_type": "error",
     "traceback": [
      "\u001b[1;31m---------------------------------------------------------------------------\u001b[0m",
      "\u001b[1;31mDOcplexException\u001b[0m                          Traceback (most recent call last)",
      "Cell \u001b[1;32mIn[2], line 20\u001b[0m\n\u001b[0;32m     17\u001b[0m model\u001b[38;5;241m.\u001b[39madd_constraint(\u001b[38;5;241m4\u001b[39m \u001b[38;5;241m*\u001b[39m x_A \u001b[38;5;241m+\u001b[39m \u001b[38;5;241m2\u001b[39m \u001b[38;5;241m*\u001b[39m x_B \u001b[38;5;241m<\u001b[39m\u001b[38;5;241m=\u001b[39m \u001b[38;5;241m120\u001b[39m, \u001b[38;5;124m\"\u001b[39m\u001b[38;5;124mMachine_M3_Time\u001b[39m\u001b[38;5;124m\"\u001b[39m)\n\u001b[0;32m     19\u001b[0m \u001b[38;5;66;03m# Solve the model\u001b[39;00m\n\u001b[1;32m---> 20\u001b[0m solution \u001b[38;5;241m=\u001b[39m \u001b[43mmodel\u001b[49m\u001b[38;5;241;43m.\u001b[39;49m\u001b[43msolve\u001b[49m\u001b[43m(\u001b[49m\u001b[43m)\u001b[49m\n\u001b[0;32m     22\u001b[0m \u001b[38;5;66;03m# Print results\u001b[39;00m\n\u001b[0;32m     23\u001b[0m \u001b[38;5;28;01mif\u001b[39;00m solution:\n",
      "File \u001b[1;32mc:\\Users\\shukl\\PehlaPyaar\\LangWork\\MAYANKenv\\lib\\site-packages\\docplex\\mp\\model.py:4903\u001b[0m, in \u001b[0;36mModel.solve\u001b[1;34m(self, **kwargs)\u001b[0m\n\u001b[0;32m   4901\u001b[0m     \u001b[38;5;28;01mreturn\u001b[39;00m \u001b[38;5;28mself\u001b[39m\u001b[38;5;241m.\u001b[39m_solve_local(context, used_clean_before_solve, parameter_sets)\u001b[38;5;66;03m# lex_timelimits, lex_mipgaps)\u001b[39;00m\n\u001b[0;32m   4902\u001b[0m \u001b[38;5;28;01melse\u001b[39;00m:\n\u001b[1;32m-> 4903\u001b[0m     \u001b[38;5;28;01mreturn\u001b[39;00m \u001b[38;5;28;43mself\u001b[39;49m\u001b[38;5;241;43m.\u001b[39;49m\u001b[43mfatal\u001b[49m\u001b[43m(\u001b[49m\u001b[38;5;124;43m\"\u001b[39;49m\u001b[38;5;124;43mCannot solve model: no CPLEX runtime found.\u001b[39;49m\u001b[38;5;124;43m\"\u001b[39;49m\u001b[43m)\u001b[49m\n",
      "File \u001b[1;32mc:\\Users\\shukl\\PehlaPyaar\\LangWork\\MAYANKenv\\lib\\site-packages\\docplex\\mp\\model.py:1093\u001b[0m, in \u001b[0;36mModel.fatal\u001b[1;34m(self, msg, *args)\u001b[0m\n\u001b[0;32m   1092\u001b[0m \u001b[38;5;28;01mdef\u001b[39;00m\u001b[38;5;250m \u001b[39m\u001b[38;5;21mfatal\u001b[39m(\u001b[38;5;28mself\u001b[39m, msg, \u001b[38;5;241m*\u001b[39margs):\n\u001b[1;32m-> 1093\u001b[0m     \u001b[38;5;28;43mself\u001b[39;49m\u001b[38;5;241;43m.\u001b[39;49m\u001b[43m_error_handler\u001b[49m\u001b[38;5;241;43m.\u001b[39;49m\u001b[43mfatal\u001b[49m\u001b[43m(\u001b[49m\u001b[43mmsg\u001b[49m\u001b[43m,\u001b[49m\u001b[43m \u001b[49m\u001b[43margs\u001b[49m\u001b[43m)\u001b[49m\n",
      "File \u001b[1;32mc:\\Users\\shukl\\PehlaPyaar\\LangWork\\MAYANKenv\\lib\\site-packages\\docplex\\mp\\error_handler.py:210\u001b[0m, in \u001b[0;36mAbstractErrorHandler.fatal\u001b[1;34m(self, msg, args)\u001b[0m\n\u001b[0;32m    208\u001b[0m resolved_message \u001b[38;5;241m=\u001b[39m resolve_pattern(msg, args)\n\u001b[0;32m    209\u001b[0m docplex_error_stop_here()\n\u001b[1;32m--> 210\u001b[0m \u001b[38;5;28;01mraise\u001b[39;00m DOcplexException(resolved_message)\n",
      "\u001b[1;31mDOcplexException\u001b[0m: Cannot solve model: no CPLEX runtime found."
     ]
    }
   ],
   "source": [
    "# ##cplex code for above problem\n",
    "# from docplex.mp.model import Model\n",
    "\n",
    "# # Initialize the model\n",
    "# model = Model(name=\"Production_Planning\")\n",
    "\n",
    "# # Define decision variables (Integer and >= 0)\n",
    "# x_A = model.integer_var(name=\"Product_A\", lb=0)\n",
    "# x_B = model.integer_var(name=\"Product_B\", lb=0)\n",
    "\n",
    "# # Objective function: Maximize profit\n",
    "# model.maximize(50 * x_A + 70 * x_B)\n",
    "\n",
    "# # Constraints\n",
    "# model.add_constraint(2 * x_A + 3 * x_B <= 100, \"Machine_M1_Time\")\n",
    "# model.add_constraint(x_A + 2 * x_B <= 80, \"Machine_M2_Time\")\n",
    "# model.add_constraint(4 * x_A + 2 * x_B <= 120, \"Machine_M3_Time\")\n",
    "\n",
    "# # Solve the model\n",
    "# solution = model.solve()\n",
    "\n",
    "# # Print results\n",
    "# if solution:\n",
    "#     print(\"Status:\", model.solve_details.status)\n",
    "#     print(\"Optimal Production:\")\n",
    "#     print(f\"Product A = {x_A.solution_value} units\")\n",
    "#     print(f\"Product B = {x_B.solution_value} units\")\n",
    "#     print(f\"Total Profit = ${model.objective_value}\")\n",
    "# else:\n",
    "#     print(\"No feasible solution found.\")"
   ]
  },
  {
   "cell_type": "code",
   "execution_count": 51,
   "id": "be6d5141",
   "metadata": {},
   "outputs": [
    {
     "ename": "ModuleNotFoundError",
     "evalue": "No module named 'docplex'",
     "output_type": "error",
     "traceback": [
      "\u001b[1;31m---------------------------------------------------------------------------\u001b[0m",
      "\u001b[1;31mModuleNotFoundError\u001b[0m                       Traceback (most recent call last)",
      "Cell \u001b[1;32mIn[51], line 1\u001b[0m\n\u001b[1;32m----> 1\u001b[0m \u001b[38;5;28;01mfrom\u001b[39;00m\u001b[38;5;250m \u001b[39m\u001b[38;5;21;01mdocplex\u001b[39;00m\u001b[38;5;21;01m.\u001b[39;00m\u001b[38;5;21;01mmp\u001b[39;00m\u001b[38;5;21;01m.\u001b[39;00m\u001b[38;5;21;01mmodel\u001b[39;00m\u001b[38;5;250m \u001b[39m\u001b[38;5;28;01mimport\u001b[39;00m Model\n\u001b[0;32m      2\u001b[0m \u001b[38;5;28mprint\u001b[39m(\u001b[38;5;124m\"\u001b[39m\u001b[38;5;124mdocplex is installed successfully!\u001b[39m\u001b[38;5;124m\"\u001b[39m)\n",
      "\u001b[1;31mModuleNotFoundError\u001b[0m: No module named 'docplex'"
     ]
    }
   ],
   "source": [
    "from docplex.mp.model import Model\n",
    "print(\"docplex is installed successfully!\")"
   ]
  }
 ],
 "metadata": {
  "kernelspec": {
   "display_name": "Python 3",
   "language": "python",
   "name": "python3"
  },
  "language_info": {
   "codemirror_mode": {
    "name": "ipython",
    "version": 3
   },
   "file_extension": ".py",
   "mimetype": "text/x-python",
   "name": "python",
   "nbconvert_exporter": "python",
   "pygments_lexer": "ipython3",
   "version": "3.10.0"
  }
 },
 "nbformat": 4,
 "nbformat_minor": 5
}
